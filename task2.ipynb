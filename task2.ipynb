{
 "cells": [
  {
   "cell_type": "code",
   "execution_count": 3,
   "metadata": {},
   "outputs": [],
   "source": [
    "import pandas as pd\n",
    "import numpy as np\n",
    "import matplotlib.pyplot as plt\n",
    "import lasio\n",
    "import os"
   ]
  },
  {
   "cell_type": "markdown",
   "metadata": {},
   "source": [
    "## Сохранение файлов continuous и discrete в формате .csv"
   ]
  },
  {
   "cell_type": "code",
   "execution_count": 4,
   "metadata": {},
   "outputs": [],
   "source": [
    "def get_discrete_files(path):\n",
    "    files = os.listdir(path)\n",
    "    return [file for file in files if file.endswith('_discrete.las')]"
   ]
  },
  {
   "cell_type": "code",
   "execution_count": 5,
   "metadata": {},
   "outputs": [],
   "source": [
    "def get_continuous_files(path):\n",
    "    files = os.listdir(path)\n",
    "    return [file for file in files if file.endswith('_continuous.las')]"
   ]
  },
  {
   "cell_type": "code",
   "execution_count": 6,
   "metadata": {},
   "outputs": [],
   "source": [
    "def las_to_csv(las_file, output_path):\n",
    "    las = lasio.read(las_file)\n",
    "    df = las.df()\n",
    "    df.reset_index(inplace=True)\n",
    "    df.to_csv(f\"{output_path}/{las_file.split('/')[-1].replace('.las', '.csv')}\", index=False)"
   ]
  },
  {
   "cell_type": "code",
   "execution_count": 84,
   "metadata": {},
   "outputs": [],
   "source": [
    "las_folder_path = '<your_path_here>'"
   ]
  },
  {
   "cell_type": "code",
   "execution_count": 6,
   "metadata": {},
   "outputs": [],
   "source": [
    "discrete_files = get_discrete_files(las_folder_path)\n",
    "continuous_files = get_continuous_files(las_folder_path)"
   ]
  },
  {
   "cell_type": "code",
   "execution_count": 7,
   "metadata": {},
   "outputs": [],
   "source": [
    "dicrete_output_path = '<your_path_here>'\n",
    "continuous_output_path = '<your_path_here>'"
   ]
  },
  {
   "cell_type": "code",
   "execution_count": 9,
   "metadata": {},
   "outputs": [],
   "source": [
    "os.makedirs(dicrete_output_path, exist_ok=True)\n",
    "os.makedirs(continuous_output_path, exist_ok=True)"
   ]
  },
  {
   "cell_type": "code",
   "execution_count": 10,
   "metadata": {},
   "outputs": [],
   "source": [
    "for file in discrete_files:\n",
    "    las_to_csv(f\"{las_folder_path}/{file}\", dicrete_output_path)"
   ]
  },
  {
   "cell_type": "code",
   "execution_count": 11,
   "metadata": {},
   "outputs": [],
   "source": [
    "for file in continuous_files:\n",
    "    las_to_csv(f\"{las_folder_path}/{file}\", continuous_output_path)"
   ]
  },
  {
   "cell_type": "markdown",
   "metadata": {},
   "source": [
    "## Создание датасета, состоящего из обобщенных данных из файлов continuous и discrete"
   ]
  },
  {
   "cell_type": "code",
   "execution_count": 2,
   "metadata": {},
   "outputs": [],
   "source": [
    "discrete_files_path = '<your_path_here>'\n",
    "continuous_files_path = '<your_path_here>'"
   ]
  },
  {
   "cell_type": "code",
   "execution_count": null,
   "metadata": {},
   "outputs": [],
   "source": [
    "# создаем список для хранения данных по скважинам из файлов discrete\n",
    "\n",
    "wells_discrete = [[\"WELL\", \"DEPT\", \"SSTVD\", \"Z\", \"FACIES\", \"LOG9\"]]\n",
    "\n",
    "for file in os.listdir(discrete_files_path):\n",
    "    if file.endswith('.csv'):\n",
    "        file_path = os.path.join(discrete_files_path, file)\n",
    "        well_name = file.split('_')[0]\n",
    "        with open(file_path) as f:\n",
    "            lines = f.readlines()\n",
    "            for line in lines[1:]:\n",
    "                parsed_line = []\n",
    "                for i in line.split(','):\n",
    "                    try:\n",
    "                        parsed_line.append(float(i.strip()))\n",
    "                    except:\n",
    "                        parsed_line.append(None)\n",
    "                wells_discrete.append([well_name] + parsed_line)"
   ]
  },
  {
   "cell_type": "code",
   "execution_count": 5,
   "metadata": {},
   "outputs": [],
   "source": [
    "# создаем список для хранения данных по скважинам из файлов continuous\n",
    "wells_continuous = [[\"WELL\", \"DEPT\", \"SSTVD\", \"Z\", \"NEU\", \"GGKP\"]]\n",
    "\n",
    "for file in os.listdir(continuous_files_path):\n",
    "    if file.endswith('.csv'):\n",
    "        file_path = os.path.join(continuous_files_path, file)\n",
    "        well_name = file.split('_')[0]\n",
    "        with open(file_path) as f:\n",
    "            lines = f.readlines()\n",
    "            for line in lines[1:]:\n",
    "                parsed_line = []\n",
    "                for i in line.split(','):\n",
    "                    try:\n",
    "                        parsed_line.append(float(i.strip()))\n",
    "                    except ValueError:\n",
    "                        parsed_line.append(None)\n",
    "                wells_continuous.append([well_name] + parsed_line)"
   ]
  },
  {
   "cell_type": "code",
   "execution_count": 7,
   "metadata": {},
   "outputs": [],
   "source": [
    "# создаем датафреймы для дальнейшей работы\n",
    "discrete_df =  pd.DataFrame(wells_discrete[1:], columns=wells_discrete[0])"
   ]
  },
  {
   "cell_type": "code",
   "execution_count": 8,
   "metadata": {},
   "outputs": [],
   "source": [
    "# удаляем строки с пустыми значениями в столбцах FACIES и LOG9\n",
    "discrete_df.dropna(subset=['FACIES', 'LOG9'], how='all', inplace=True)"
   ]
  },
  {
   "cell_type": "code",
   "execution_count": 9,
   "metadata": {},
   "outputs": [],
   "source": [
    "# удаляем столбцы SSTVD и Z\n",
    "discrete_df.drop(columns=['SSTVD', 'Z'], inplace=True)"
   ]
  },
  {
   "cell_type": "code",
   "execution_count": 28,
   "metadata": {},
   "outputs": [],
   "source": [
    "continuous_df = pd.DataFrame(wells_continuous[1:], columns=wells_continuous[0])"
   ]
  },
  {
   "cell_type": "code",
   "execution_count": 30,
   "metadata": {},
   "outputs": [],
   "source": [
    "# удаляем строки с пустыми значениями в столбцах NEU и GGKP\n",
    "continuous_df.dropna(subset=['NEU', 'GGKP'], how='all', inplace=True)"
   ]
  },
  {
   "cell_type": "code",
   "execution_count": 32,
   "metadata": {},
   "outputs": [],
   "source": [
    "# сортируем датафреймы по столбцам WELL и DEPT\n",
    "continuous_df.sort_values(by=['WELL', 'DEPT'], inplace=True)\n",
    "discrete_df.sort_values(by=['WELL', 'DEPT'], inplace=True)"
   ]
  },
  {
   "cell_type": "code",
   "execution_count": 7,
   "metadata": {},
   "outputs": [],
   "source": [
    "# Импортируем библиотеку для построения KDTree\n",
    "from scipy.spatial import cKDTree\n",
    "\n",
    "def nearest_merge_with_threshold(left_df, right_df, on, max_distance, suffixes=('_left', '_right')):\n",
    "    # Эта функция добавляет порог для максимального допустимого расстояния между значениями DEPT\n",
    "    merged_df = pd.DataFrame() # Инициализируем пустой DataFrame для хранения результата\n",
    "\n",
    "    # Обработка каждой скважины отдельно\n",
    "    for well in pd.unique(left_df[on[0]]):\n",
    "        left_subset = left_df[left_df[on[0]] == well].copy()\n",
    "        right_subset = right_df[right_df[on[0]] == well].copy()\n",
    "\n",
    "        if not left_subset.empty and not right_subset.empty:\n",
    "            # Строим KDTree с использованием DEPT из правого поднабора\n",
    "            kdtree = cKDTree(right_subset[[on[1]]])\n",
    "\n",
    "            # Получаем расстояния и индексы ближайших точек\n",
    "            distances, indices = kdtree.query(left_subset[[on[1]]], distance_upper_bound=max_distance)\n",
    "\n",
    "            # Добавляем индексы и расстояния в левый поднабор\n",
    "            left_subset['right_index'] = indices\n",
    "            left_subset['distances'] = distances\n",
    "\n",
    "            # Применяем порог к расстояниям\n",
    "            mask = left_subset['distances'] <= max_distance\n",
    "            left_subset.loc[~mask, 'right_index'] = np.nan # Присваиваем NaN, если расстояние слишком велико\n",
    "\n",
    "            # Совмещаем результаты с правым поднабором на основе найденных индексов\n",
    "            left_subset = left_subset.merge(right_subset.reset_index(), left_on='right_index', right_index=True, how='left', suffixes=suffixes)\n",
    "            merged_df = pd.concat([merged_df, left_subset], ignore_index=True)\n",
    "\n",
    "    # Удаляем лишние столбцы\n",
    "    merged_df.drop(columns=['right_index', 'distances'], inplace=True)\n",
    "    return merged_df\n"
   ]
  },
  {
   "cell_type": "code",
   "execution_count": 34,
   "metadata": {},
   "outputs": [],
   "source": [
    "# Определяем столбцы для объединения и пороговое максимальное расстояние\n",
    "on_columns = ['WELL', 'DEPT']\n",
    "max_distance = 0.1 # Определяем максимальное допустимое расстояние между значениями DEPT"
   ]
  },
  {
   "cell_type": "code",
   "execution_count": 35,
   "metadata": {},
   "outputs": [],
   "source": [
    "# Выполняем слияние с порогом расстояния\n",
    "result_df = nearest_merge_with_threshold(continuous_df, discrete_df, on=on_columns, max_distance=max_distance)"
   ]
  },
  {
   "cell_type": "code",
   "execution_count": 36,
   "metadata": {},
   "outputs": [
    {
     "data": {
      "text/html": [
       "<div>\n",
       "<style scoped>\n",
       "    .dataframe tbody tr th:only-of-type {\n",
       "        vertical-align: middle;\n",
       "    }\n",
       "\n",
       "    .dataframe tbody tr th {\n",
       "        vertical-align: top;\n",
       "    }\n",
       "\n",
       "    .dataframe thead th {\n",
       "        text-align: right;\n",
       "    }\n",
       "</style>\n",
       "<table border=\"1\" class=\"dataframe\">\n",
       "  <thead>\n",
       "    <tr style=\"text-align: right;\">\n",
       "      <th></th>\n",
       "      <th>WELL_left</th>\n",
       "      <th>DEPT_left</th>\n",
       "      <th>SSTVD</th>\n",
       "      <th>Z</th>\n",
       "      <th>NEU</th>\n",
       "      <th>GGKP</th>\n",
       "      <th>index</th>\n",
       "      <th>WELL_right</th>\n",
       "      <th>DEPT_right</th>\n",
       "      <th>FACIES</th>\n",
       "      <th>LOG9</th>\n",
       "    </tr>\n",
       "  </thead>\n",
       "  <tbody>\n",
       "    <tr>\n",
       "      <th>0</th>\n",
       "      <td>12</td>\n",
       "      <td>2738.4756</td>\n",
       "      <td>1952.051221</td>\n",
       "      <td>-1952.051221</td>\n",
       "      <td>0.3154</td>\n",
       "      <td>NaN</td>\n",
       "      <td>NaN</td>\n",
       "      <td>NaN</td>\n",
       "      <td>NaN</td>\n",
       "      <td>NaN</td>\n",
       "      <td>NaN</td>\n",
       "    </tr>\n",
       "    <tr>\n",
       "      <th>1</th>\n",
       "      <td>12</td>\n",
       "      <td>2738.6280</td>\n",
       "      <td>1952.155861</td>\n",
       "      <td>-1952.155861</td>\n",
       "      <td>0.3194</td>\n",
       "      <td>NaN</td>\n",
       "      <td>NaN</td>\n",
       "      <td>NaN</td>\n",
       "      <td>NaN</td>\n",
       "      <td>NaN</td>\n",
       "      <td>NaN</td>\n",
       "    </tr>\n",
       "    <tr>\n",
       "      <th>2</th>\n",
       "      <td>12</td>\n",
       "      <td>2738.7804</td>\n",
       "      <td>1952.260501</td>\n",
       "      <td>-1952.260501</td>\n",
       "      <td>0.3239</td>\n",
       "      <td>NaN</td>\n",
       "      <td>NaN</td>\n",
       "      <td>NaN</td>\n",
       "      <td>NaN</td>\n",
       "      <td>NaN</td>\n",
       "      <td>NaN</td>\n",
       "    </tr>\n",
       "    <tr>\n",
       "      <th>3</th>\n",
       "      <td>12</td>\n",
       "      <td>2738.9328</td>\n",
       "      <td>1952.365140</td>\n",
       "      <td>-1952.365140</td>\n",
       "      <td>0.3271</td>\n",
       "      <td>NaN</td>\n",
       "      <td>NaN</td>\n",
       "      <td>NaN</td>\n",
       "      <td>NaN</td>\n",
       "      <td>NaN</td>\n",
       "      <td>NaN</td>\n",
       "    </tr>\n",
       "    <tr>\n",
       "      <th>4</th>\n",
       "      <td>12</td>\n",
       "      <td>2739.0852</td>\n",
       "      <td>1952.469780</td>\n",
       "      <td>-1952.469780</td>\n",
       "      <td>0.3286</td>\n",
       "      <td>NaN</td>\n",
       "      <td>NaN</td>\n",
       "      <td>NaN</td>\n",
       "      <td>NaN</td>\n",
       "      <td>NaN</td>\n",
       "      <td>NaN</td>\n",
       "    </tr>\n",
       "  </tbody>\n",
       "</table>\n",
       "</div>"
      ],
      "text/plain": [
       "  WELL_left  DEPT_left        SSTVD            Z     NEU  GGKP  index  \\\n",
       "0        12  2738.4756  1952.051221 -1952.051221  0.3154   NaN    NaN   \n",
       "1        12  2738.6280  1952.155861 -1952.155861  0.3194   NaN    NaN   \n",
       "2        12  2738.7804  1952.260501 -1952.260501  0.3239   NaN    NaN   \n",
       "3        12  2738.9328  1952.365140 -1952.365140  0.3271   NaN    NaN   \n",
       "4        12  2739.0852  1952.469780 -1952.469780  0.3286   NaN    NaN   \n",
       "\n",
       "  WELL_right  DEPT_right  FACIES  LOG9  \n",
       "0        NaN         NaN     NaN   NaN  \n",
       "1        NaN         NaN     NaN   NaN  \n",
       "2        NaN         NaN     NaN   NaN  \n",
       "3        NaN         NaN     NaN   NaN  \n",
       "4        NaN         NaN     NaN   NaN  "
      ]
     },
     "execution_count": 36,
     "metadata": {},
     "output_type": "execute_result"
    }
   ],
   "source": [
    "result_df.head()"
   ]
  },
  {
   "cell_type": "code",
   "execution_count": 37,
   "metadata": {},
   "outputs": [],
   "source": [
    "# Удаляем лишние столбцы\n",
    "result_df.drop(columns=['WELL_right', 'DEPT_right', 'index'], inplace=True)"
   ]
  },
  {
   "cell_type": "code",
   "execution_count": 38,
   "metadata": {},
   "outputs": [
    {
     "data": {
      "text/html": [
       "<div>\n",
       "<style scoped>\n",
       "    .dataframe tbody tr th:only-of-type {\n",
       "        vertical-align: middle;\n",
       "    }\n",
       "\n",
       "    .dataframe tbody tr th {\n",
       "        vertical-align: top;\n",
       "    }\n",
       "\n",
       "    .dataframe thead th {\n",
       "        text-align: right;\n",
       "    }\n",
       "</style>\n",
       "<table border=\"1\" class=\"dataframe\">\n",
       "  <thead>\n",
       "    <tr style=\"text-align: right;\">\n",
       "      <th></th>\n",
       "      <th>WELL_left</th>\n",
       "      <th>DEPT_left</th>\n",
       "      <th>SSTVD</th>\n",
       "      <th>Z</th>\n",
       "      <th>NEU</th>\n",
       "      <th>GGKP</th>\n",
       "      <th>FACIES</th>\n",
       "      <th>LOG9</th>\n",
       "    </tr>\n",
       "  </thead>\n",
       "  <tbody>\n",
       "    <tr>\n",
       "      <th>0</th>\n",
       "      <td>12</td>\n",
       "      <td>2738.4756</td>\n",
       "      <td>1952.051221</td>\n",
       "      <td>-1952.051221</td>\n",
       "      <td>0.3154</td>\n",
       "      <td>NaN</td>\n",
       "      <td>NaN</td>\n",
       "      <td>NaN</td>\n",
       "    </tr>\n",
       "    <tr>\n",
       "      <th>1</th>\n",
       "      <td>12</td>\n",
       "      <td>2738.6280</td>\n",
       "      <td>1952.155861</td>\n",
       "      <td>-1952.155861</td>\n",
       "      <td>0.3194</td>\n",
       "      <td>NaN</td>\n",
       "      <td>NaN</td>\n",
       "      <td>NaN</td>\n",
       "    </tr>\n",
       "    <tr>\n",
       "      <th>2</th>\n",
       "      <td>12</td>\n",
       "      <td>2738.7804</td>\n",
       "      <td>1952.260501</td>\n",
       "      <td>-1952.260501</td>\n",
       "      <td>0.3239</td>\n",
       "      <td>NaN</td>\n",
       "      <td>NaN</td>\n",
       "      <td>NaN</td>\n",
       "    </tr>\n",
       "    <tr>\n",
       "      <th>3</th>\n",
       "      <td>12</td>\n",
       "      <td>2738.9328</td>\n",
       "      <td>1952.365140</td>\n",
       "      <td>-1952.365140</td>\n",
       "      <td>0.3271</td>\n",
       "      <td>NaN</td>\n",
       "      <td>NaN</td>\n",
       "      <td>NaN</td>\n",
       "    </tr>\n",
       "    <tr>\n",
       "      <th>4</th>\n",
       "      <td>12</td>\n",
       "      <td>2739.0852</td>\n",
       "      <td>1952.469780</td>\n",
       "      <td>-1952.469780</td>\n",
       "      <td>0.3286</td>\n",
       "      <td>NaN</td>\n",
       "      <td>NaN</td>\n",
       "      <td>NaN</td>\n",
       "    </tr>\n",
       "  </tbody>\n",
       "</table>\n",
       "</div>"
      ],
      "text/plain": [
       "  WELL_left  DEPT_left        SSTVD            Z     NEU  GGKP  FACIES  LOG9\n",
       "0        12  2738.4756  1952.051221 -1952.051221  0.3154   NaN     NaN   NaN\n",
       "1        12  2738.6280  1952.155861 -1952.155861  0.3194   NaN     NaN   NaN\n",
       "2        12  2738.7804  1952.260501 -1952.260501  0.3239   NaN     NaN   NaN\n",
       "3        12  2738.9328  1952.365140 -1952.365140  0.3271   NaN     NaN   NaN\n",
       "4        12  2739.0852  1952.469780 -1952.469780  0.3286   NaN     NaN   NaN"
      ]
     },
     "execution_count": 38,
     "metadata": {},
     "output_type": "execute_result"
    }
   ],
   "source": [
    "result_df.head()"
   ]
  },
  {
   "cell_type": "code",
   "execution_count": 39,
   "metadata": {},
   "outputs": [],
   "source": [
    "# Переименовываем столбцы\n",
    "result_df.columns = ['WELL', 'DEPT', 'SSTVD', 'Z', 'NEU', 'GGKP', 'FACIES', 'LOG9']"
   ]
  },
  {
   "cell_type": "code",
   "execution_count": 40,
   "metadata": {},
   "outputs": [
    {
     "data": {
      "text/html": [
       "<div>\n",
       "<style scoped>\n",
       "    .dataframe tbody tr th:only-of-type {\n",
       "        vertical-align: middle;\n",
       "    }\n",
       "\n",
       "    .dataframe tbody tr th {\n",
       "        vertical-align: top;\n",
       "    }\n",
       "\n",
       "    .dataframe thead th {\n",
       "        text-align: right;\n",
       "    }\n",
       "</style>\n",
       "<table border=\"1\" class=\"dataframe\">\n",
       "  <thead>\n",
       "    <tr style=\"text-align: right;\">\n",
       "      <th></th>\n",
       "      <th>WELL</th>\n",
       "      <th>DEPT</th>\n",
       "      <th>SSTVD</th>\n",
       "      <th>Z</th>\n",
       "      <th>NEU</th>\n",
       "      <th>GGKP</th>\n",
       "      <th>FACIES</th>\n",
       "      <th>LOG9</th>\n",
       "    </tr>\n",
       "  </thead>\n",
       "  <tbody>\n",
       "    <tr>\n",
       "      <th>0</th>\n",
       "      <td>12</td>\n",
       "      <td>2738.4756</td>\n",
       "      <td>1952.051221</td>\n",
       "      <td>-1952.051221</td>\n",
       "      <td>0.3154</td>\n",
       "      <td>NaN</td>\n",
       "      <td>NaN</td>\n",
       "      <td>NaN</td>\n",
       "    </tr>\n",
       "    <tr>\n",
       "      <th>1</th>\n",
       "      <td>12</td>\n",
       "      <td>2738.6280</td>\n",
       "      <td>1952.155861</td>\n",
       "      <td>-1952.155861</td>\n",
       "      <td>0.3194</td>\n",
       "      <td>NaN</td>\n",
       "      <td>NaN</td>\n",
       "      <td>NaN</td>\n",
       "    </tr>\n",
       "    <tr>\n",
       "      <th>2</th>\n",
       "      <td>12</td>\n",
       "      <td>2738.7804</td>\n",
       "      <td>1952.260501</td>\n",
       "      <td>-1952.260501</td>\n",
       "      <td>0.3239</td>\n",
       "      <td>NaN</td>\n",
       "      <td>NaN</td>\n",
       "      <td>NaN</td>\n",
       "    </tr>\n",
       "    <tr>\n",
       "      <th>3</th>\n",
       "      <td>12</td>\n",
       "      <td>2738.9328</td>\n",
       "      <td>1952.365140</td>\n",
       "      <td>-1952.365140</td>\n",
       "      <td>0.3271</td>\n",
       "      <td>NaN</td>\n",
       "      <td>NaN</td>\n",
       "      <td>NaN</td>\n",
       "    </tr>\n",
       "    <tr>\n",
       "      <th>4</th>\n",
       "      <td>12</td>\n",
       "      <td>2739.0852</td>\n",
       "      <td>1952.469780</td>\n",
       "      <td>-1952.469780</td>\n",
       "      <td>0.3286</td>\n",
       "      <td>NaN</td>\n",
       "      <td>NaN</td>\n",
       "      <td>NaN</td>\n",
       "    </tr>\n",
       "    <tr>\n",
       "      <th>...</th>\n",
       "      <td>...</td>\n",
       "      <td>...</td>\n",
       "      <td>...</td>\n",
       "      <td>...</td>\n",
       "      <td>...</td>\n",
       "      <td>...</td>\n",
       "      <td>...</td>\n",
       "      <td>...</td>\n",
       "    </tr>\n",
       "    <tr>\n",
       "      <th>264738</th>\n",
       "      <td>K-66</td>\n",
       "      <td>2833.5732</td>\n",
       "      <td>2210.045565</td>\n",
       "      <td>-2210.045565</td>\n",
       "      <td>NaN</td>\n",
       "      <td>2.59</td>\n",
       "      <td>NaN</td>\n",
       "      <td>NaN</td>\n",
       "    </tr>\n",
       "    <tr>\n",
       "      <th>264739</th>\n",
       "      <td>K-66</td>\n",
       "      <td>2833.7256</td>\n",
       "      <td>2210.191964</td>\n",
       "      <td>-2210.191964</td>\n",
       "      <td>NaN</td>\n",
       "      <td>2.60</td>\n",
       "      <td>NaN</td>\n",
       "      <td>NaN</td>\n",
       "    </tr>\n",
       "    <tr>\n",
       "      <th>264740</th>\n",
       "      <td>K-66</td>\n",
       "      <td>2833.8780</td>\n",
       "      <td>2210.338363</td>\n",
       "      <td>-2210.338363</td>\n",
       "      <td>NaN</td>\n",
       "      <td>2.60</td>\n",
       "      <td>NaN</td>\n",
       "      <td>NaN</td>\n",
       "    </tr>\n",
       "    <tr>\n",
       "      <th>264741</th>\n",
       "      <td>K-66</td>\n",
       "      <td>2834.0304</td>\n",
       "      <td>2210.484762</td>\n",
       "      <td>-2210.484762</td>\n",
       "      <td>NaN</td>\n",
       "      <td>2.60</td>\n",
       "      <td>NaN</td>\n",
       "      <td>NaN</td>\n",
       "    </tr>\n",
       "    <tr>\n",
       "      <th>264742</th>\n",
       "      <td>K-66</td>\n",
       "      <td>2834.1828</td>\n",
       "      <td>2210.631222</td>\n",
       "      <td>-2210.631222</td>\n",
       "      <td>NaN</td>\n",
       "      <td>2.63</td>\n",
       "      <td>NaN</td>\n",
       "      <td>NaN</td>\n",
       "    </tr>\n",
       "  </tbody>\n",
       "</table>\n",
       "<p>264743 rows × 8 columns</p>\n",
       "</div>"
      ],
      "text/plain": [
       "        WELL       DEPT        SSTVD            Z     NEU  GGKP  FACIES  LOG9\n",
       "0         12  2738.4756  1952.051221 -1952.051221  0.3154   NaN     NaN   NaN\n",
       "1         12  2738.6280  1952.155861 -1952.155861  0.3194   NaN     NaN   NaN\n",
       "2         12  2738.7804  1952.260501 -1952.260501  0.3239   NaN     NaN   NaN\n",
       "3         12  2738.9328  1952.365140 -1952.365140  0.3271   NaN     NaN   NaN\n",
       "4         12  2739.0852  1952.469780 -1952.469780  0.3286   NaN     NaN   NaN\n",
       "...      ...        ...          ...          ...     ...   ...     ...   ...\n",
       "264738  K-66  2833.5732  2210.045565 -2210.045565     NaN  2.59     NaN   NaN\n",
       "264739  K-66  2833.7256  2210.191964 -2210.191964     NaN  2.60     NaN   NaN\n",
       "264740  K-66  2833.8780  2210.338363 -2210.338363     NaN  2.60     NaN   NaN\n",
       "264741  K-66  2834.0304  2210.484762 -2210.484762     NaN  2.60     NaN   NaN\n",
       "264742  K-66  2834.1828  2210.631222 -2210.631222     NaN  2.63     NaN   NaN\n",
       "\n",
       "[264743 rows x 8 columns]"
      ]
     },
     "execution_count": 40,
     "metadata": {},
     "output_type": "execute_result"
    }
   ],
   "source": [
    "result_df"
   ]
  },
  {
   "cell_type": "code",
   "execution_count": 41,
   "metadata": {},
   "outputs": [],
   "source": [
    "# Сохраняем результат в CSV\n",
    "result_df.to_csv('<your_path_here>', index=False)"
   ]
  },
  {
   "cell_type": "markdown",
   "metadata": {},
   "source": [
    "## Использовнаие алгоритма RandomForest для предсказания значения FACIES"
   ]
  },
  {
   "cell_type": "code",
   "execution_count": 3,
   "metadata": {},
   "outputs": [
    {
     "name": "stderr",
     "output_type": "stream",
     "text": [
      "/tmp/ipykernel_27505/2764342425.py:1: DtypeWarning: Columns (0) have mixed types. Specify dtype option on import or set low_memory=False.\n",
      "  df = pd.read_csv('continuous_discrete_merged.csv')\n"
     ]
    }
   ],
   "source": [
    "df = pd.read_csv('continuous_discrete_merged.csv')"
   ]
  },
  {
   "cell_type": "code",
   "execution_count": 4,
   "metadata": {},
   "outputs": [
    {
     "name": "stdout",
     "output_type": "stream",
     "text": [
      "<class 'pandas.core.frame.DataFrame'>\n",
      "RangeIndex: 264743 entries, 0 to 264742\n",
      "Data columns (total 8 columns):\n",
      " #   Column  Non-Null Count   Dtype  \n",
      "---  ------  --------------   -----  \n",
      " 0   WELL    264743 non-null  object \n",
      " 1   DEPT    264743 non-null  float64\n",
      " 2   SSTVD   264743 non-null  float64\n",
      " 3   Z       264743 non-null  float64\n",
      " 4   NEU     254752 non-null  float64\n",
      " 5   GGKP    210100 non-null  float64\n",
      " 6   FACIES  2751 non-null    float64\n",
      " 7   LOG9    2916 non-null    float64\n",
      "dtypes: float64(7), object(1)\n",
      "memory usage: 16.2+ MB\n"
     ]
    }
   ],
   "source": [
    "df.info()"
   ]
  },
  {
   "cell_type": "code",
   "execution_count": 5,
   "metadata": {},
   "outputs": [],
   "source": [
    "# Удаляем строки с пустыми значениями в столбцах NEU и GGKP\n",
    "df.dropna(subset=['NEU', 'GGKP'], inplace=True)"
   ]
  },
  {
   "cell_type": "code",
   "execution_count": 6,
   "metadata": {},
   "outputs": [
    {
     "name": "stdout",
     "output_type": "stream",
     "text": [
      "<class 'pandas.core.frame.DataFrame'>\n",
      "Index: 200109 entries, 18 to 264715\n",
      "Data columns (total 8 columns):\n",
      " #   Column  Non-Null Count   Dtype  \n",
      "---  ------  --------------   -----  \n",
      " 0   WELL    200109 non-null  object \n",
      " 1   DEPT    200109 non-null  float64\n",
      " 2   SSTVD   200109 non-null  float64\n",
      " 3   Z       200109 non-null  float64\n",
      " 4   NEU     200109 non-null  float64\n",
      " 5   GGKP    200109 non-null  float64\n",
      " 6   FACIES  2646 non-null    float64\n",
      " 7   LOG9    2811 non-null    float64\n",
      "dtypes: float64(7), object(1)\n",
      "memory usage: 13.7+ MB\n"
     ]
    }
   ],
   "source": [
    "df.info()"
   ]
  },
  {
   "cell_type": "code",
   "execution_count": 7,
   "metadata": {},
   "outputs": [],
   "source": [
    "# Удаляем строки с пустыми значениями в столбцах FACIES и LOG9\n",
    "df_filtered = df.dropna(subset=['FACIES', 'LOG9'])"
   ]
  },
  {
   "cell_type": "code",
   "execution_count": 8,
   "metadata": {},
   "outputs": [],
   "source": [
    "# Определяем признаки и целевую переменную\n",
    "X = df_filtered[[col for col in df_filtered.columns if col.startswith('DEPT') or col.startswith('GGKP')]]\n",
    "y = df_filtered['FACIES'] # Измените на 'LOG9', если хотите предсказать LOG9"
   ]
  },
  {
   "cell_type": "code",
   "execution_count": 9,
   "metadata": {},
   "outputs": [],
   "source": [
    "# Импортируем библиотеки для обучения модели\n",
    "from sklearn.ensemble import RandomForestClassifier\n",
    "from sklearn.model_selection import train_test_split\n",
    "from sklearn.metrics import classification_report\n",
    "from sklearn.model_selection import RandomizedSearchCV, GridSearchCV\n",
    "from sklearn.model_selection import StratifiedKFold"
   ]
  },
  {
   "cell_type": "code",
   "execution_count": 28,
   "metadata": {},
   "outputs": [],
   "source": [
    "# Разделяем данные на обучающую и тестовую выборки\n",
    "X_train, X_test, y_train, y_test = train_test_split(X, y, test_size=0.2, random_state=1)"
   ]
  },
  {
   "cell_type": "code",
   "execution_count": 29,
   "metadata": {},
   "outputs": [],
   "source": [
    "# Random Search для исследования пространства параметров\n",
    "param_dist = {\n",
    "    'n_estimators': [100, 200, 300, 400, 500, 600],\n",
    "    'criterion' : ['gini', 'entropy', 'log_loss'], \n",
    "    'min_samples_leaf': [2, 3, 4],\n",
    "    'max_depth': [5, 10, 15, 20, 25]\n",
    "}\n",
    "cv = StratifiedKFold(n_splits=2) # Используем Stratified K-Fold для сохранения баланса классов\n",
    "rf_random_search = RandomizedSearchCV(RandomForestClassifier(), param_distributions=param_dist, n_iter=50, cv=cv, n_jobs=-1) # n_iter - количество случайных комбинаций параметров\n",
    "rf_random_search.fit(X_train, y_train)\n",
    "\n",
    "# Лучшие параметры после Random Search\n",
    "param_grid = {\n",
    "    'n_estimators': [rf_random_search.best_params_['n_estimators'] - 50, rf_random_search.best_params_['n_estimators'], rf_random_search.best_params_['n_estimators'] + 50],\n",
    "    'criterion': [rf_random_search.best_params_['criterion']],\n",
    "    'min_samples_leaf': [rf_random_search.best_params_['min_samples_leaf'] - 1, rf_random_search.best_params_['min_samples_leaf'], rf_random_search.best_params_['min_samples_leaf'] + 1],\n",
    "    'max_depth': [rf_random_search.best_params_['max_depth'] - 5, rf_random_search.best_params_['max_depth'], rf_random_search.best_params_['max_depth'] + 5]\n",
    "}\n",
    "\n",
    "# Grid Search для более точного поиска\n",
    "rf_grid_search = GridSearchCV(RandomForestClassifier(), param_grid=param_grid, cv=cv, n_jobs=-1)\n",
    "rf_grid_search.fit(X_train, y_train)\n",
    "\n",
    "# Лучшие параметры после Grid Search\n",
    "best_params = rf_grid_search.best_params_"
   ]
  },
  {
   "cell_type": "code",
   "execution_count": 33,
   "metadata": {},
   "outputs": [
    {
     "data": {
      "text/html": [
       "<style>#sk-container-id-6 {color: black;}#sk-container-id-6 pre{padding: 0;}#sk-container-id-6 div.sk-toggleable {background-color: white;}#sk-container-id-6 label.sk-toggleable__label {cursor: pointer;display: block;width: 100%;margin-bottom: 0;padding: 0.3em;box-sizing: border-box;text-align: center;}#sk-container-id-6 label.sk-toggleable__label-arrow:before {content: \"▸\";float: left;margin-right: 0.25em;color: #696969;}#sk-container-id-6 label.sk-toggleable__label-arrow:hover:before {color: black;}#sk-container-id-6 div.sk-estimator:hover label.sk-toggleable__label-arrow:before {color: black;}#sk-container-id-6 div.sk-toggleable__content {max-height: 0;max-width: 0;overflow: hidden;text-align: left;background-color: #f0f8ff;}#sk-container-id-6 div.sk-toggleable__content pre {margin: 0.2em;color: black;border-radius: 0.25em;background-color: #f0f8ff;}#sk-container-id-6 input.sk-toggleable__control:checked~div.sk-toggleable__content {max-height: 200px;max-width: 100%;overflow: auto;}#sk-container-id-6 input.sk-toggleable__control:checked~label.sk-toggleable__label-arrow:before {content: \"▾\";}#sk-container-id-6 div.sk-estimator input.sk-toggleable__control:checked~label.sk-toggleable__label {background-color: #d4ebff;}#sk-container-id-6 div.sk-label input.sk-toggleable__control:checked~label.sk-toggleable__label {background-color: #d4ebff;}#sk-container-id-6 input.sk-hidden--visually {border: 0;clip: rect(1px 1px 1px 1px);clip: rect(1px, 1px, 1px, 1px);height: 1px;margin: -1px;overflow: hidden;padding: 0;position: absolute;width: 1px;}#sk-container-id-6 div.sk-estimator {font-family: monospace;background-color: #f0f8ff;border: 1px dotted black;border-radius: 0.25em;box-sizing: border-box;margin-bottom: 0.5em;}#sk-container-id-6 div.sk-estimator:hover {background-color: #d4ebff;}#sk-container-id-6 div.sk-parallel-item::after {content: \"\";width: 100%;border-bottom: 1px solid gray;flex-grow: 1;}#sk-container-id-6 div.sk-label:hover label.sk-toggleable__label {background-color: #d4ebff;}#sk-container-id-6 div.sk-serial::before {content: \"\";position: absolute;border-left: 1px solid gray;box-sizing: border-box;top: 0;bottom: 0;left: 50%;z-index: 0;}#sk-container-id-6 div.sk-serial {display: flex;flex-direction: column;align-items: center;background-color: white;padding-right: 0.2em;padding-left: 0.2em;position: relative;}#sk-container-id-6 div.sk-item {position: relative;z-index: 1;}#sk-container-id-6 div.sk-parallel {display: flex;align-items: stretch;justify-content: center;background-color: white;position: relative;}#sk-container-id-6 div.sk-item::before, #sk-container-id-6 div.sk-parallel-item::before {content: \"\";position: absolute;border-left: 1px solid gray;box-sizing: border-box;top: 0;bottom: 0;left: 50%;z-index: -1;}#sk-container-id-6 div.sk-parallel-item {display: flex;flex-direction: column;z-index: 1;position: relative;background-color: white;}#sk-container-id-6 div.sk-parallel-item:first-child::after {align-self: flex-end;width: 50%;}#sk-container-id-6 div.sk-parallel-item:last-child::after {align-self: flex-start;width: 50%;}#sk-container-id-6 div.sk-parallel-item:only-child::after {width: 0;}#sk-container-id-6 div.sk-dashed-wrapped {border: 1px dashed gray;margin: 0 0.4em 0.5em 0.4em;box-sizing: border-box;padding-bottom: 0.4em;background-color: white;}#sk-container-id-6 div.sk-label label {font-family: monospace;font-weight: bold;display: inline-block;line-height: 1.2em;}#sk-container-id-6 div.sk-label-container {text-align: center;}#sk-container-id-6 div.sk-container {/* jupyter's `normalize.less` sets `[hidden] { display: none; }` but bootstrap.min.css set `[hidden] { display: none !important; }` so we also need the `!important` here to be able to override the default hidden behavior on the sphinx rendered scikit-learn.org. See: https://github.com/scikit-learn/scikit-learn/issues/21755 */display: inline-block !important;position: relative;}#sk-container-id-6 div.sk-text-repr-fallback {display: none;}</style><div id=\"sk-container-id-6\" class=\"sk-top-container\"><div class=\"sk-text-repr-fallback\"><pre>RandomForestClassifier(criterion=&#x27;log_loss&#x27;, max_depth=15, min_samples_leaf=2,\n",
       "                       n_estimators=50)</pre><b>In a Jupyter environment, please rerun this cell to show the HTML representation or trust the notebook. <br />On GitHub, the HTML representation is unable to render, please try loading this page with nbviewer.org.</b></div><div class=\"sk-container\" hidden><div class=\"sk-item\"><div class=\"sk-estimator sk-toggleable\"><input class=\"sk-toggleable__control sk-hidden--visually\" id=\"sk-estimator-id-6\" type=\"checkbox\" checked><label for=\"sk-estimator-id-6\" class=\"sk-toggleable__label sk-toggleable__label-arrow\">RandomForestClassifier</label><div class=\"sk-toggleable__content\"><pre>RandomForestClassifier(criterion=&#x27;log_loss&#x27;, max_depth=15, min_samples_leaf=2,\n",
       "                       n_estimators=50)</pre></div></div></div></div></div>"
      ],
      "text/plain": [
       "RandomForestClassifier(criterion='log_loss', max_depth=15, min_samples_leaf=2,\n",
       "                       n_estimators=50)"
      ]
     },
     "execution_count": 33,
     "metadata": {},
     "output_type": "execute_result"
    }
   ],
   "source": [
    "# Создание модели с лучшими параметрами\n",
    "best_rf_model = RandomForestClassifier(**best_params)\n",
    "\n",
    "# Обучение модели на всем тренировочном наборе данных\n",
    "best_rf_model.fit(X_train, y_train)"
   ]
  },
  {
   "cell_type": "code",
   "execution_count": 34,
   "metadata": {},
   "outputs": [],
   "source": [
    "# Предсказание на тестовом наборе данных\n",
    "y_pred = rf_grid_search.predict(X_test)"
   ]
  },
  {
   "cell_type": "code",
   "execution_count": 35,
   "metadata": {},
   "outputs": [
    {
     "name": "stdout",
     "output_type": "stream",
     "text": [
      "              precision    recall  f1-score   support\n",
      "\n",
      "         1.0       0.49      0.53      0.51        87\n",
      "         2.0       0.47      0.39      0.43        56\n",
      "         3.0       0.57      0.69      0.63        75\n",
      "         4.0       0.63      0.59      0.61        46\n",
      "         5.0       0.00      0.00      0.00         0\n",
      "         6.0       0.00      0.00      0.00         1\n",
      "         7.0       0.20      0.11      0.14         9\n",
      "         8.0       0.50      0.55      0.52        44\n",
      "         9.0       0.00      0.00      0.00         9\n",
      "        10.0       0.62      0.50      0.55        26\n",
      "        11.0       0.68      0.76      0.71        98\n",
      "        12.0       0.62      0.45      0.53        11\n",
      "        13.0       0.56      0.56      0.56        18\n",
      "        15.0       0.61      0.51      0.56        49\n",
      "\n",
      "    accuracy                           0.57       529\n",
      "   macro avg       0.42      0.40      0.41       529\n",
      "weighted avg       0.56      0.57      0.56       529\n",
      "\n"
     ]
    },
    {
     "name": "stderr",
     "output_type": "stream",
     "text": [
      "/home/ruugi/miniconda3/envs/ds/lib/python3.12/site-packages/sklearn/metrics/_classification.py:1469: UndefinedMetricWarning: Precision and F-score are ill-defined and being set to 0.0 in labels with no predicted samples. Use `zero_division` parameter to control this behavior.\n",
      "  _warn_prf(average, modifier, msg_start, len(result))\n",
      "/home/ruugi/miniconda3/envs/ds/lib/python3.12/site-packages/sklearn/metrics/_classification.py:1469: UndefinedMetricWarning: Recall and F-score are ill-defined and being set to 0.0 in labels with no true samples. Use `zero_division` parameter to control this behavior.\n",
      "  _warn_prf(average, modifier, msg_start, len(result))\n",
      "/home/ruugi/miniconda3/envs/ds/lib/python3.12/site-packages/sklearn/metrics/_classification.py:1469: UndefinedMetricWarning: Precision and F-score are ill-defined and being set to 0.0 in labels with no predicted samples. Use `zero_division` parameter to control this behavior.\n",
      "  _warn_prf(average, modifier, msg_start, len(result))\n",
      "/home/ruugi/miniconda3/envs/ds/lib/python3.12/site-packages/sklearn/metrics/_classification.py:1469: UndefinedMetricWarning: Recall and F-score are ill-defined and being set to 0.0 in labels with no true samples. Use `zero_division` parameter to control this behavior.\n",
      "  _warn_prf(average, modifier, msg_start, len(result))\n",
      "/home/ruugi/miniconda3/envs/ds/lib/python3.12/site-packages/sklearn/metrics/_classification.py:1469: UndefinedMetricWarning: Precision and F-score are ill-defined and being set to 0.0 in labels with no predicted samples. Use `zero_division` parameter to control this behavior.\n",
      "  _warn_prf(average, modifier, msg_start, len(result))\n",
      "/home/ruugi/miniconda3/envs/ds/lib/python3.12/site-packages/sklearn/metrics/_classification.py:1469: UndefinedMetricWarning: Recall and F-score are ill-defined and being set to 0.0 in labels with no true samples. Use `zero_division` parameter to control this behavior.\n",
      "  _warn_prf(average, modifier, msg_start, len(result))\n"
     ]
    }
   ],
   "source": [
    "# Оценка модели\n",
    "print(classification_report(y_test, y_pred))"
   ]
  }
 ],
 "metadata": {
  "kernelspec": {
   "display_name": "Python 3 (ipykernel)",
   "language": "python",
   "name": "python3"
  },
  "language_info": {
   "codemirror_mode": {
    "name": "ipython",
    "version": 3
   },
   "file_extension": ".py",
   "mimetype": "text/x-python",
   "name": "python",
   "nbconvert_exporter": "python",
   "pygments_lexer": "ipython3",
   "version": "3.12.2"
  }
 },
 "nbformat": 4,
 "nbformat_minor": 4
}
